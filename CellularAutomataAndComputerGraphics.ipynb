{
 "cells": [
  {
   "cell_type": "markdown",
   "metadata": {},
   "source": [
    "## define data structure"
   ]
  },
  {
   "cell_type": "code",
   "execution_count": 1,
   "metadata": {},
   "outputs": [],
   "source": [
    "## data structure\n",
    "cell = ()\n",
    "community = set()  # set of cells"
   ]
  },
  {
   "cell_type": "code",
   "execution_count": 186,
   "metadata": {},
   "outputs": [],
   "source": [
    "community = set([(1, 1), (2, 1), (3, 1), (5, 1), (6, 1), (7, 1), (9, 1), (10, 1), (11, 1)])"
   ]
  },
  {
   "cell_type": "code",
   "execution_count": 4,
   "metadata": {},
   "outputs": [],
   "source": [
    "## community shift"
   ]
  },
  {
   "cell_type": "code",
   "execution_count": 5,
   "metadata": {},
   "outputs": [],
   "source": [
    "min_x = min(community, key=lambda c: c[0])[0]\n",
    "max_x = max(community, key=lambda c: c[0])[0]\n",
    "min_y = min(community, key=lambda c: c[1])[1]\n",
    "max_y = max(community, key=lambda c: c[1])[1]"
   ]
  },
  {
   "cell_type": "code",
   "execution_count": 6,
   "metadata": {},
   "outputs": [],
   "source": [
    "community = [(x-min_x, y-min_y) for x, y in community]"
   ]
  },
  {
   "cell_type": "code",
   "execution_count": 7,
   "metadata": {},
   "outputs": [],
   "source": [
    "rows = [' '] * (max_x - min_x + 1)  # 0 to 10 have 11 numbers\n",
    "deserts = [rows] * (max_y - min_y + 1)"
   ]
  },
  {
   "cell_type": "code",
   "execution_count": 9,
   "metadata": {},
   "outputs": [],
   "source": [
    "## print desert function"
   ]
  },
  {
   "cell_type": "code",
   "execution_count": 649,
   "metadata": {},
   "outputs": [],
   "source": [
    "import matplotlib.pyplot as plt"
   ]
  },
  {
   "cell_type": "code",
   "execution_count": 677,
   "metadata": {},
   "outputs": [],
   "source": [
    "import numpy as np"
   ]
  },
  {
   "cell_type": "code",
   "execution_count": 801,
   "metadata": {},
   "outputs": [],
   "source": [
    "def print_desert(desert):\n",
    "   rows = [''.join(r) for r in desert]\n",
    "   print('\\n'.join(rows))\n",
    "#     X, Y = [], []\n",
    "    \n",
    "    \n",
    "#     for y, row in enumerate(desert):\n",
    "#         for x, cell in enumerate(row):\n",
    "#             if cell == 'O': X.append(x); Y.append(y)\n",
    "\n",
    "#     N = len(X)\n",
    "#     area = (np.pi * 5)**2  # 0 to 15 point radii\n",
    "#     colors = np.random.rand(N)\n",
    "#     print(X)\n",
    "#     print(Y)\n",
    "#     plt.scatter(X, Y, s=area, c=colors, alpha=0.5)\n",
    "#     plt.show()"
   ]
  },
  {
   "cell_type": "code",
   "execution_count": 693,
   "metadata": {},
   "outputs": [],
   "source": [
    "def create_desert_by_community(community):\n",
    "    min_x = min(community, key=lambda c: c[0])[0]\n",
    "    max_x = max(community, key=lambda c: c[0])[0]\n",
    "    min_y = min(community, key=lambda c: c[1])[1]\n",
    "    max_y = max(community, key=lambda c: c[1])[1]\n",
    "\n",
    "    community = [(x-min_x, y-min_y) for x, y in community]\n",
    "    deserts = [[' ' for _ in range(max_x - min_x + 1)] for _ in range(max_y - min_y + 1)]\n",
    "\n",
    "    for x, y in community:  deserts[y][x] = 'O'\n",
    "\n",
    "    return deserts"
   ]
  },
  {
   "cell_type": "markdown",
   "metadata": {},
   "source": [
    "## add outlinear neighbors"
   ]
  },
  {
   "cell_type": "code",
   "execution_count": 96,
   "metadata": {},
   "outputs": [],
   "source": [
    "from functools import reduce"
   ]
  },
  {
   "cell_type": "code",
   "execution_count": 131,
   "metadata": {},
   "outputs": [],
   "source": [
    "def get_neighbors(x, y, expand=1):\n",
    "    if expand == 1: \n",
    "        return set([(x - 1, y - 1),  (x, y - 1),     (x + 1, y - 1),\n",
    "                (x - 1, y),                     (x + 1, y),\n",
    "                (x - 1, y + 1),  (x, y + 1),    (x + 1, y + 1)])\n",
    "    else: \n",
    "        return reduce(lambda x, y: x | y, [get_neighbors(*n, expand-1) for n in get_neighbors(x, y, expand=1)]) - set([(x, y)])"
   ]
  },
  {
   "cell_type": "code",
   "execution_count": 407,
   "metadata": {},
   "outputs": [],
   "source": [
    "def get_community_new_born(community):\n",
    "    ## add neghbors to this community\n",
    "    neighbors = set()\n",
    "    for c in community:\n",
    "        neighbors |= get_neighbors(*c, expand=1)\n",
    "    neighbors = neighbors - set(community)\n",
    "    \n",
    "    new_born = set()\n",
    "    for n in neighbors:\n",
    "        if sum([1 for cell in get_neighbors(*n) if cell in community]) == 3: \n",
    "            new_born.add(n)\n",
    "    \n",
    "    return new_born"
   ]
  },
  {
   "cell_type": "code",
   "execution_count": 388,
   "metadata": {},
   "outputs": [],
   "source": [
    "def get_died_cells(community):\n",
    "    died = set()\n",
    "    for c in community:\n",
    "        if is_delete(*c, community): died.add(c)\n",
    "    return died"
   ]
  },
  {
   "cell_type": "code",
   "execution_count": 389,
   "metadata": {},
   "outputs": [],
   "source": [
    "def is_delete(x, y, community):\n",
    "    assert (x, y) in community\n",
    "    neighbors = get_neighbors(x, y)\n",
    "    neighbor_num = sum([1 for n in neighbors if n in community])\n",
    "    if neighbor_num < 2 or neighbor_num > 3: return True\n",
    "    else: return False"
   ]
  },
  {
   "cell_type": "markdown",
   "metadata": {},
   "source": [
    "## Run one epoch"
   ]
  },
  {
   "cell_type": "code",
   "execution_count": 803,
   "metadata": {},
   "outputs": [],
   "source": [
    "community = set(\n",
    "    [(1, 1), (2, 1), (3, 1), (4, 1), (5, 1),\n",
    "     (7, 1), (8, 1), (9, 1), (10, 1), (11, 1),\n",
    "     (13, 1), (14, 1), (15, 1), (16, 1), (17, 1)]\n",
    ")"
   ]
  },
  {
   "cell_type": "code",
   "execution_count": 869,
   "metadata": {},
   "outputs": [
    {
     "name": "stdout",
     "output_type": "stream",
     "text": [
      "     O     \n",
      "     O     \n",
      "     O     \n",
      "           \n",
      "           \n",
      "           \n",
      "OO       OO\n",
      "OO       OO\n",
      "           \n",
      "OO       OO\n",
      "OO       OO\n",
      "           \n",
      "           \n",
      "           \n",
      "     O     \n",
      "     O     \n",
      "     O     \n"
     ]
    }
   ],
   "source": [
    "print_c(community)\n",
    "community = run_one_epoch(community)"
   ]
  },
  {
   "cell_type": "code",
   "execution_count": 784,
   "metadata": {},
   "outputs": [],
   "source": [
    "def run_one_epoch(community):\n",
    "    died = get_died_cells(community)\n",
    "    born = get_community_new_born(community)\n",
    "    community = (community - died) | born\n",
    "    return community"
   ]
  },
  {
   "cell_type": "code",
   "execution_count": 692,
   "metadata": {},
   "outputs": [],
   "source": [
    "def print_c(comm): return print_desert(create_desert_by_community(comm))"
   ]
  }
 ],
 "metadata": {
  "kernelspec": {
   "display_name": "Python 3",
   "language": "python",
   "name": "python3"
  },
  "language_info": {
   "codemirror_mode": {
    "name": "ipython",
    "version": 3
   },
   "file_extension": ".py",
   "mimetype": "text/x-python",
   "name": "python",
   "nbconvert_exporter": "python",
   "pygments_lexer": "ipython3",
   "version": "3.6.3"
  }
 },
 "nbformat": 4,
 "nbformat_minor": 2
}
